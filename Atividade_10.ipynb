{
  "nbformat": 4,
  "nbformat_minor": 0,
  "metadata": {
    "colab": {
      "name": "Atividade 10.ipynb",
      "provenance": [],
      "authorship_tag": "ABX9TyOl0GA2tV0cPsT09UbXTs+G",
      "include_colab_link": true
    },
    "kernelspec": {
      "name": "python3",
      "display_name": "Python 3"
    }
  },
  "cells": [
    {
      "cell_type": "markdown",
      "metadata": {
        "id": "view-in-github",
        "colab_type": "text"
      },
      "source": [
        "<a href=\"https://colab.research.google.com/github/larissa870/ProgISD20202/blob/master/Atividade_10.ipynb\" target=\"_parent\"><img src=\"https://colab.research.google.com/assets/colab-badge.svg\" alt=\"Open In Colab\"/></a>"
      ]
    },
    {
      "cell_type": "code",
      "metadata": {
        "id": "g41HfMcGM2Ne",
        "colab_type": "code",
        "colab": {}
      },
      "source": [
        "from google.colab import drive"
      ],
      "execution_count": null,
      "outputs": []
    },
    {
      "cell_type": "code",
      "metadata": {
        "id": "u7XJ_QGPNG0H",
        "colab_type": "code",
        "colab": {
          "base_uri": "https://localhost:8080/",
          "height": 34
        },
        "outputId": "b8873680-0603-477d-83bc-1c5cf92920f7"
      },
      "source": [
        "drive.mount('/content/drive')"
      ],
      "execution_count": null,
      "outputs": [
        {
          "output_type": "stream",
          "text": [
            "Drive already mounted at /content/drive; to attempt to forcibly remount, call drive.mount(\"/content/drive\", force_remount=True).\n"
          ],
          "name": "stdout"
        }
      ]
    },
    {
      "cell_type": "code",
      "metadata": {
        "id": "ILNuoeqCS1PJ",
        "colab_type": "code",
        "colab": {}
      },
      "source": [
        "import pandas as pd\n",
        "import csv\n",
        "import numpy as np\n",
        "import matplotlib.pyplot as plt"
      ],
      "execution_count": null,
      "outputs": []
    },
    {
      "cell_type": "code",
      "metadata": {
        "id": "gubn30O0oTce",
        "colab_type": "code",
        "colab": {}
      },
      "source": [
        "class color:\n",
        "   PURPLE = '\\033[95m'\n",
        "   CYAN = '\\033[96m'\n",
        "   DARKCYAN = '\\033[36m'\n",
        "   BLUE = '\\033[94m'\n",
        "   GREEN = '\\033[92m'\n",
        "   YELLOW = '\\033[93m'\n",
        "   RED = '\\033[91m'\n",
        "   BOLD = '\\033[1m'\n",
        "   UNDERLINE = '\\033[4m'\n",
        "   END = '\\033[0m'"
      ],
      "execution_count": null,
      "outputs": []
    },
    {
      "cell_type": "code",
      "metadata": {
        "id": "z9r_Y_cHMNZU",
        "colab_type": "code",
        "colab": {
          "base_uri": "https://localhost:8080/",
          "height": 797
        },
        "outputId": "bdb1633a-efa1-477d-e900-acc647e4d1a9"
      },
      "source": [
        "'''Cadastrar pesquisador responsável durante a pesquisa'''\n",
        "\n",
        "pesquisador = input(\"Qual o seu nome: \")\n",
        "if pesquisador == \"Larissa\":\n",
        "    print('Você está autorizado a executar a pesquisa, prossiga.')\n",
        "    \n",
        "else:\n",
        "    print('Você não tem autorização para realizar a pesquisa')\n",
        "\n",
        "print(\"--------------------------------------------------------------------------------------------------------------------------------------------\")\n",
        "def menu():    \n",
        "    print('\\n0 = Sair\\n1 = Seleção do animal\\n2 = Cirurgia estereotáxica\\n3 = Preparo do tecido\\n4 = Imunofluorescência\\n5 = Microscopia')\n",
        "    return int(input('\\nEntre com a opção desejada: '))\n",
        "\n",
        "'''Criação do menu para escolha por parte do usuário\n",
        "Adicionei 3 opções: Sair, caucular IMC \n",
        "e Classificação do IMC'''\n",
        "\n",
        "while True:\n",
        "    opcao = menu()\n",
        "\n",
        "    if opcao == 0:\n",
        "        print ('Tchau!')\n",
        "        break;\n",
        "\n",
        "    elif opcao == 1:    \n",
        "        print(\"\\n-----------------SELEÇÃO DO ANIMAL----------------\")\n",
        "        print(\"\\n1 - Rato Wistar\")\n",
        "        print(\"2 - Camundongo\")\n",
        "        print(\"3 - Sagui\")\n",
        "        animal = float(input('\\nDigite a opção desejada: '))\n",
        "\n",
        "        if animal == 1:\n",
        "            print(\"\\nO animal selecionado foi: \", color.BOLD + 'RATO WISTAR' + color.END)\n",
        "        elif animal == 2:\n",
        "            print(\"\\nO animal selecionado foi: \", color.BOLD + 'CAMUNDONGO' + color.END)\n",
        "        elif animal == 3:\n",
        "            print(\"\\nO animal selecionado foi: \", color.BOLD + 'SAGUI' + color.END)\n",
        "        else: \n",
        "            print(\"\\nInválido\")\n",
        "\n",
        "    elif opcao == 2:\n",
        "        print(\"-----------------CIRURGIA ESTEREOTÁXICA----------------\")\n",
        "\n",
        "        anestesico = [\"Xilazina\", \"Ketamina\", \"Isoflurano\"]\n",
        "        dosagem = (\"Xilazina - 5 a 10 mg/kg\",\"Ketamina - 50 a 90 mg/kg\", \"Isoflurano - 3 a 4%\")\n",
        "        via = [\"Xilazina - intraperitoneal\", \"Ketamina - intraperitoneal\", \"Isoflurano - Inalatória\"]\n",
        "\n",
        "        #Anestesia\n",
        "\n",
        "        pesoanimal = float(input(\"Qual o peso (g) do animal utilizado? \"))\n",
        "        print(pesoanimal)\n",
        "\n",
        "        print(\"Anestésicos disponíveis: \", anestesico)\n",
        "        anestesicousado = input(\"Qual anestésico será utilizado?\\n\")\n",
        "\n",
        "        print(\"Dosagens recomendadas: \", dosagem)\n",
        "        dosagemusada = float(input(\"Qual dosagem será utilizada? \"))\n",
        "\n",
        "        print(\"Vias de administração recomendadas: \", via)\n",
        "        viaadministrada = input(\"Qual a via de administração? \")\n",
        "        print(\"-------------------------------------------------------------------\")\n",
        "        print(\"\\nO anestésico selecionado foi : \", anestesicousado)\n",
        "        print(\"A dosagem selecionada foi: \", dosagemusada)\n",
        "        print(\"A via de administração selecionada foi: \", viaadministrada)\n",
        "        print(\"-------------------------------------------------------------------\")\n",
        "\n",
        "        print(color.BOLD + '\\nPOSICIONAMENTO NO ESTEREOTÁXICO' + color.END)\n",
        "\n",
        "        print(\"\\nO animal deverá ser posicionado de modo que as barras sejam posicionadas no ouvido externo\")\n",
        "        print(\"Verificar posicionamento do animal no minímo 3 x\")\n",
        "\n",
        "        posicionado = 0\n",
        "        for posicionado in range (3):\n",
        "            posicionamento = int(input(\"O animal foi posicionado no estereotáxico corretamente? 0 (Não) - 1 (Sim): \"))\n",
        "\n",
        "        if posicionamento == 0:\n",
        "            print(\"O animal não foi posicionado corretamente.\")\n",
        "        elif posicionamento == 1:\n",
        "            print(\"\\nO animal foi posicionado corretamente sem diferenças na angulação entre o bregma e o lambda.\")\n",
        "        else: \n",
        "            print(\"Inválido\")\n",
        "        print(\"----------------------------------------------------------------------\")\n",
        "\n",
        "        print(color.BOLD + '\\nCOORDENADAS PARA IMPLANTE DA MATRIZ DE ELETRODOS' + color.END)\n",
        "        print(\"\\nInforme as coordenadas a serem utilizadas\")\n",
        "\n",
        "        AP = float(input(\"Digite o valor do posicionamento AnteroPosterior (AP): \" ))\n",
        "        LL = float(input(\"Digite o valor do posicionamento LateroLateral (LL): \" ))\n",
        "        DV = float(input(\"Digite o valor do posicionamento DorsoVentral (DV): \" ))\n",
        "        print(\"--------------------------------------------------------------------\")\n",
        "        print(\"\\nO valor digitado foi (AP): \", AP)\n",
        "        print(\"O valor digitado foi (LL): \", LL)\n",
        "        print(\"O valor digitado foi (DV): \", DV)\n",
        "        print(\"--------------------------------------------------------------------\")\n",
        "    \n",
        "    elif opcao == 3:\n",
        "        print(\"------------------------------------------------------\")\n",
        "        print(\"\\nDescreva as etapas do processamento tecidual.\")\n",
        "        perfusao = input(\"Qual o método de perfusão será utilizado: \")\n",
        "        eutanasia = input(\"Qual o método de eutanásia será utilizado: \")\n",
        "\n",
        "        print(\"------------------------------------------------------\")\n",
        "        print(\"Soluções a serem utilizadas durante a perfusão: \\n-Salina heparinizada \\n-Paraformaldeído\")\n",
        "        print(\"------------------------------------------------------\")\n",
        "        print(\"Soluções em que o cérebro deverá ser mantido: \\n-Paraformaldeído tamponado (24 Horas) \\n-Tampão fosfato (24 Horas) \\n-Sacarose tamponada\")\n",
        "        print(\"------------------------------------------------------\")\n",
        "\n",
        "    elif opcao == 4:\n",
        "        print(\"------------------------------------------------------\")\n",
        "        print(\"\\nDescreva os procedimentos que serão realizados.\")\n",
        "        print(\"\\n1 - Coloração de Nissl \\n2 - Imunofluorescência \\n3 - Outra\")\n",
        "        imuno = int(input(\"Qual o método a ser realizado? \"))\n",
        "        if imuno == 1:\n",
        "            print(\"Você selecionou a coloração de Nissl que será utilizada para confirmar as regiões que foram atingidas pelo implante, a seguir estão as etapas que deverão ser realizadas.\")\n",
        "            print(\"------------------------------------------\")\n",
        "            print(\"ETAPAS: \\n1º Colocar lâminas em cresil violeta \\n2º Imersão em solução de ácido acético \\n3º Imersão em baterias de álcoois 70, 80, 90 e 100% \\n4º Imersão em baterias de xilol puro \\n5º Fechamento das lâminas\")\n",
        "            print(\"------------------------------------------\")\n",
        "        elif imuno == 2:\n",
        "            print(\"Você selecionou a imunofluorescência, onde as etapas serão mostradas a seguir.\")\n",
        "            print(\"------------------------------------------\")\n",
        "            print(\"ETAPAS: \\n1º Reidratação dos tecidos em tampão fosfato \\n2º Bloqueio de sítios inespecíficos \\n3º Repetir procedimento de lavagem e hidratação, permanecendo em incubação OVERNIGHT com anticorpos primários: Iba1, CD68. \\n4º Lavagem e será acrescido os anticorpos secundários: anti-rabbit e anti-mouse conjugados aos fluoróforos \\n5º Lavagem dos tecidos e montagem de lâminas com ProLong Gold Antifade Mountant com DAPI.\")\n",
        "            print(\"------------------------------------------\")\n",
        "        else:\n",
        "            print(\"Inválido\")\n",
        "\n",
        "    elif opcao == 5:\n",
        "        print(\"------------------------MICROSCOPIA------------------------------\")\n",
        "        print(\"Discrimine qual a celula será analisada!\")\n",
        "        print(\"\\n1 - Micróglia \\n2 - Astrócitos\")\n",
        "        mic = int(input(\"Selecione a opção desejada:  \"))\n",
        "        if mic == 1:\n",
        "            print(\"Você selecionou micróglia.\")\n",
        "            print(\"Estes são os seus resultados em relação a porcentagem de células ativas e inativas. \")\n",
        "            microglia = pd.read_csv(\"/content/drive/My Drive/Microgliareal.csv\", engine='python')\n",
        "            A = microglia['Microglias ativas']\n",
        "            I = microglia['Microglias inativas']\n",
        "            print(\"------------------------------------------\")\n",
        "            labels = 'Ativas', 'Inativas'\n",
        "            sizes = [sum(A), sum(I)]\n",
        "            explode = (0, 0.1)\n",
        "\n",
        "            fig1, ax1 = plt.subplots()\n",
        "            ax1.pie(sizes, explode=explode, labels=labels, autopct='%1.1f%%',\n",
        "                    shadow=True, startangle=90)\n",
        "            ax1.axis('equal')\n",
        "            plt.show()\n",
        "\n",
        "            print(\"------------------------------------------\")\n",
        "        elif mic == 2:\n",
        "            print(\"Você selecionou astrócito.\")\n",
        "            print(\"------------------------------------------\")\n",
        "            print(\"Não possuimos dados referentes a quantidade de astrócitos.\")\n",
        "            print(\"------------------------------------------\")\n",
        "        else:\n",
        "            print(\"Inválido\")"
      ],
      "execution_count": null,
      "outputs": [
        {
          "output_type": "stream",
          "text": [
            "Qual o seu nome: Larissa\n",
            "Você está autorizado a executar a pesquisa, prossiga.\n",
            "--------------------------------------------------------------------------------------------------------------------------------------------\n",
            "\n",
            "0 = Sair\n",
            "1 = Seleção do animal\n",
            "2 = Cirurgia estereotáxica\n",
            "3 = Preparo do tecido\n",
            "4 = Imunofluorescência\n",
            "5 = Microscopia\n",
            "\n",
            "Entre com a opção desejada: 5\n",
            "------------------------MICROSCOPIA------------------------------\n",
            "Discrimine qual a celula será analisada!\n",
            "\n",
            "1 - Micróglia \n",
            "2 - Astrócitos\n",
            "Selecione a opção desejada:  1\n",
            "Você selecionou micróglia.\n",
            "Estes são os seus resultados em relação a porcentagem de células ativas e inativas. \n",
            "------------------------------------------\n"
          ],
          "name": "stdout"
        },
        {
          "output_type": "display_data",
          "data": {
            "image/png": "[encoded data removed]",
            "text/plain": [
              "<Figure size 432x288 with 1 Axes>"
            ]
          },
          "metadata": {
            "tags": []
          }
        },
        {
          "output_type": "stream",
          "text": [
            "------------------------------------------\n",
            "\n",
            "0 = Sair\n",
            "1 = Seleção do animal\n",
            "2 = Cirurgia estereotáxica\n",
            "3 = Preparo do tecido\n",
            "4 = Imunofluorescência\n",
            "5 = Microscopia\n"
          ],
          "name": "stdout"
        }
      ]
    }
  ]
}